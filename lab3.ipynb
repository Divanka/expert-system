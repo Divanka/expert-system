{
 "cells": [
  {
   "cell_type": "code",
   "execution_count": 1,
   "metadata": {},
   "outputs": [],
   "source": [
    "import psycopg2\n",
    "import pandas as pd\n",
    "import numpy as np\n",
    "import matplotlib.pyplot as plt"
   ]
  },
  {
   "cell_type": "code",
   "execution_count": 25,
   "metadata": {},
   "outputs": [],
   "source": [
    "val_liquid_level = []\n",
    "val_fluid_flow = []\n",
    "agreg = []\n",
    "\n",
    "conn = psycopg2.connect(dbname='3_lab', user='postgres', \n",
    "                        password='123456', host='localhost')\n",
    "cur = conn.cursor()"
   ]
  },
  {
   "cell_type": "code",
   "execution_count": 19,
   "metadata": {},
   "outputs": [],
   "source": [
    "liquid_level = float(input('Уровень жидкость  ')) #2\n",
    "fluid_flow = float(input('Расход жидкости  ')) #0.4"
   ]
  },
  {
   "cell_type": "code",
   "execution_count": 20,
   "metadata": {},
   "outputs": [
    {
     "name": "stdout",
     "output_type": "stream",
     "text": [
      "[0.0, 2.0, 4.0, 6.0, 8.0, 10.0]\n",
      "[1.0, 1.0, 0.0, 0.0, 0.0, 0.0]\n",
      "[0.0, 0.0, 1.0, 1.0, 0.0, 0.0]\n",
      "[0.0, 0.0, 0.0, 0.0, 1.0, 1.0]\n"
     ]
    },
    {
     "data": {
      "image/png": "[encoded data removed]",
      "text/plain": [
       "<Figure size 432x288 with 1 Axes>"
      ]
     },
     "metadata": {
      "needs_background": "light"
     },
     "output_type": "display_data"
    },
    {
     "name": "stdout",
     "output_type": "stream",
     "text": [
      "[0.0, 0.1, 0.2, 0.3, 0.4, 0.5]\n",
      "[1.0, 1.0, 0.5, 0.0, 0.0, 0.0]\n",
      "[0.0, 0.0, 0.5, 1.0, 0.5, 0.0]\n",
      "[0.0, 0.0, 0.0, 0.0, 0.5, 1.0]\n"
     ]
    },
    {
     "data": {
      "image/png": "[encoded data removed]",
      "text/plain": [
       "<Figure size 432x288 with 1 Axes>"
      ]
     },
     "metadata": {
      "needs_background": "light"
     },
     "output_type": "display_data"
    }
   ],
   "source": [
    "cur.execute('SELECT * FROM fuzzy_variables')\n",
    "rows = cur.fetchall()\n",
    "for i in range(1, 3):\n",
    "    y = []\n",
    "    x_min = []\n",
    "    x_cp = []\n",
    "    x_big = []\n",
    "    for row in rows:\n",
    "        if row[2] == i:\n",
    "            y.append(row[3])\n",
    "            x_min.append(row[5])\n",
    "            x_cp.append(row[7])\n",
    "            x_big.append(row[9])\n",
    "    print(y)\n",
    "    print(x_min)\n",
    "    print(x_cp)\n",
    "    print(x_big)\n",
    "    fig = plt.figure()\n",
    "    ax = fig.add_subplot()\n",
    "    ax.plot(y, x_min, color='green')\n",
    "    ax.plot(y, x_cp, color='blue')\n",
    "    ax.plot(y, x_big, color='red')\n",
    "    if i == 1:\n",
    "        plt.axvline(x=liquid_level, ymin=0, ymax=1)\n",
    "    if i == 2:\n",
    "        plt.axvline(x=fluid_flow, ymin=0, ymax=1)\n",
    "    plt.show()\n"
   ]
  },
  {
   "cell_type": "code",
   "execution_count": 27,
   "metadata": {},
   "outputs": [
    {
     "name": "stdout",
     "output_type": "stream",
     "text": [
      "Уровень жидкости:\n",
      "малый: 1.0\n",
      "средний: 0.0\n",
      "большой: 0.0\n",
      "Расход жидкости:\n",
      "малый: 0.0\n",
      "средний: 0.5\n",
      "большой: 0.5\n"
     ]
    }
   ],
   "source": [
    "def phasification():\n",
    "    cur.execute('SELECT * FROM fuzzy_variables')\n",
    "    rows = cur.fetchall()\n",
    "    for row in rows:\n",
    "        # print(row)\n",
    "        if row[2] == 1 and row[3] == liquid_level:\n",
    "            p = row[4:]\n",
    "            print('Уровень жидкости:')\n",
    "            for i in range(0,len(p),2):\n",
    "                val_liquid_level.append(p[i+1])\n",
    "                print(f'{p[i]}: {p[i+1]}')\n",
    "        if row[2] == 2 and row[3] == fluid_flow:\n",
    "            p = row[4:]\n",
    "            print('Расход жидкости:')\n",
    "            for i in range(0,len(p),2):\n",
    "                val_fluid_flow.append(p[i+1])\n",
    "                print(f'{p[i]}: {p[i+1]}')\n",
    "phasification()\n",
    "# print(val_liquid_level)\n",
    "# print(val_fluid_flow)"
   ]
  },
  {
   "cell_type": "code",
   "execution_count": 29,
   "metadata": {},
   "outputs": [
    {
     "name": "stdout",
     "output_type": "stream",
     "text": [
      "0.0 0.5 0.5\n",
      "0.0 0.0 0.0\n",
      "0.0 0.0 0.0\n"
     ]
    }
   ],
   "source": [
    "agreg = []\n",
    "def aggregation():\n",
    "    # agreg = []\n",
    "    agreg.append(min(val_liquid_level[0], val_fluid_flow[0])) #средний\n",
    "    agreg.append(min(val_liquid_level[0], val_fluid_flow[1])) #большой\n",
    "    agreg.append(min(val_liquid_level[0], val_fluid_flow[2])) #большой\n",
    "    agreg.append(min(val_liquid_level[1], val_fluid_flow[0])) #средний\n",
    "    agreg.append(min(val_liquid_level[1], val_fluid_flow[1])) #средний\n",
    "    agreg.append(min(val_liquid_level[1], val_fluid_flow[2])) #большой\n",
    "    agreg.append(min(val_liquid_level[2], val_fluid_flow[0])) #малый\n",
    "    agreg.append(min(val_liquid_level[2], val_fluid_flow[1])) #малый\n",
    "    agreg.append(min(val_liquid_level[2], val_fluid_flow[2])) #средний\n",
    "    agreg1 = [agreg[i:i + 3] for i in range(0, len(agreg), 3)]\n",
    "    for i in agreg1:\n",
    "        print(*i)\n",
    "    # print(agreg)\n",
    "aggregation()"
   ]
  },
  {
   "cell_type": "code",
   "execution_count": 40,
   "metadata": {},
   "outputs": [
    {
     "name": "stdout",
     "output_type": "stream",
     "text": [
      "[0.0, 0.0, 0.5]\n"
     ]
    },
    {
     "data": {
      "image/png": "[encoded data removed]",
      "text/plain": [
       "<Figure size 432x288 with 1 Axes>"
      ]
     },
     "metadata": {
      "needs_background": "light"
     },
     "output_type": "display_data"
    },
    {
     "name": "stdout",
     "output_type": "stream",
     "text": [
      "[[0, 0, 0, 0, 0, 0], [0, 0, 0, 0, 0, 0], [0.0, 0.0, 0.0, 0.5, 0.5, 0.5]]\n"
     ]
    }
   ],
   "source": [
    "def activation():\n",
    "    act_func = []\n",
    "    act_func.append(max(agreg[6],agreg[7]))\n",
    "    act_func.append(max(agreg[0], agreg[3], agreg[4], agreg[8]))\n",
    "    act_func.append(max(agreg[1], agreg[2], agreg[5]))\n",
    "    print(act_func)\n",
    "    y, x_min, x_cp, x_big = [], [], [], []\n",
    "    x = [x_min, x_cp, x_big]\n",
    "    fig = plt.figure()\n",
    "    ax = fig.add_subplot()\n",
    "    ax.set_ylim([0, 1.1])\n",
    "    cur.execute('SELECT * FROM fuzzy_variables')\n",
    "    rows = cur.fetchall()\n",
    "    p = sorted(rows, key=lambda row: row[0])\n",
    "    for row in p:\n",
    "        if row[2] == 3:\n",
    "            y.append(row[3])\n",
    "            x_min.append(row[5])\n",
    "            x_cp.append(row[7])\n",
    "            x_big.append(row[9])\n",
    "    ax.plot(y, x_big, color='red')\n",
    "    for ac in range(len(act_func)):\n",
    "        if act_func[ac] == 0.0:\n",
    "            x[ac] = [0] * 6\n",
    "        elif act_func[ac] > 0:\n",
    "            for i in range(len(x[ac])):\n",
    "                if x[ac][i] > act_func[ac]:\n",
    "                    x[ac][i] = act_func[ac]\n",
    "            \n",
    "            ax.plot(y, x[ac], color='orange')\n",
    "            plt.show()\n",
    "    return x\n",
    "    # print(x)\n",
    "\n",
    "post_activ = activation()\n",
    "print(post_activ)"
   ]
  },
  {
   "cell_type": "code",
   "execution_count": 51,
   "metadata": {},
   "outputs": [
    {
     "name": "stdout",
     "output_type": "stream",
     "text": [
      "[0.0, 0.0, 0.0, 0.5, 0.5, 0.5]\n"
     ]
    },
    {
     "data": {
      "image/png": "[encoded data removed]",
      "text/plain": [
       "<Figure size 432x288 with 1 Axes>"
      ]
     },
     "metadata": {
      "needs_background": "light"
     },
     "output_type": "display_data"
    }
   ],
   "source": [
    "def accumulation():\n",
    "    fig = plt.figure()\n",
    "    ax = fig.add_subplot()\n",
    "    y, x_min, x_cp, x_big = [], [], [], []\n",
    "    cur.execute('SELECT * FROM fuzzy_variables')\n",
    "    rows = cur.fetchall()\n",
    "    p = sorted(rows, key=lambda row: row[0])\n",
    "    for row in p:\n",
    "        if row[2] == 3:\n",
    "            y.append(row[3])\n",
    "            x_min.append(row[5])\n",
    "            x_cp.append(row[7])\n",
    "            x_big.append(row[9])\n",
    "    # print(y)\n",
    "    ax.plot(y, x_min, color='green')\n",
    "    ax.plot(y, x_cp, color='blue')\n",
    "    ax.plot(y, x_big, color='red')\n",
    "    for i in post_activ:\n",
    "        if sum(i) > 0:\n",
    "            ax.plot(y[:len(i)], i, color='orange')\n",
    "            post_acum = i\n",
    "            print(i)\n",
    "    plt.show()\n",
    "    return post_acum\n",
    "\n",
    "post_accum = accumulation()"
   ]
  },
  {
   "cell_type": "code",
   "execution_count": 61,
   "metadata": {},
   "outputs": [
    {
     "name": "stdout",
     "output_type": "stream",
     "text": [
      "[0.0, 0.0, 0.0, 0.15, 0.2, 0.25] сумма равна 0.6\n",
      "[0.0, 0.0, 0.0, 0.5, 0.5, 0.5] сумма равна 1.5\n",
      "0.39999999999999997\n"
     ]
    },
    {
     "data": {
      "image/png": "[encoded data removed]",
      "text/plain": [
       "<Figure size 432x288 with 1 Axes>"
      ]
     },
     "metadata": {
      "needs_background": "light"
     },
     "output_type": "display_data"
    }
   ],
   "source": [
    "def defuzzification():\n",
    "    y = []\n",
    "    val_accum = []\n",
    "    cur.execute('SELECT * FROM fuzzy_variables')\n",
    "    rows = cur.fetchall()\n",
    "    p = sorted(rows, key=lambda row: row[0])\n",
    "    for row in p:\n",
    "        if row[2] == 3:\n",
    "            y.append(row[3])\n",
    "    for i in range(len(y)):\n",
    "        val_accum.append(y[i] * post_accum[i])\n",
    "\n",
    "    sum_accum = sum(post_accum)\n",
    "    print(f'{val_accum} сумма равна {sum(val_accum)}')\n",
    "    print(f'{post_accum} сумма равна {sum(post_accum)}')\n",
    "    rez = sum(val_accum) / sum(post_accum)\n",
    "    print(rez)\n",
    "\n",
    "    fig = plt.figure()\n",
    "    ax = fig.add_subplot()\n",
    "    ax.set_ylim([0, 1.1])\n",
    "\n",
    "    ax.plot(y, post_accum, color='orange')\n",
    "    plt.axvline(x=rez, ymin=0, ymax=0.45)\n",
    "    plt.show()\n",
    "    \n",
    "defuzzification()"
   ]
  }
 ],
 "metadata": {
  "kernelspec": {
   "display_name": "Python 3",
   "language": "python",
   "name": "python3"
  },
  "language_info": {
   "codemirror_mode": {
    "name": "ipython",
    "version": 3
   },
   "file_extension": ".py",
   "mimetype": "text/x-python",
   "name": "python",
   "nbconvert_exporter": "python",
   "pygments_lexer": "ipython3",
   "version": "3.9.1"
  },
  "orig_nbformat": 4,
  "vscode": {
   "interpreter": {
    "hash": "0a758a141919f8f3106284b34ed96a5eb24a9bffd0933ef6d0855565c249592b"
   }
  }
 },
 "nbformat": 4,
 "nbformat_minor": 2
}
